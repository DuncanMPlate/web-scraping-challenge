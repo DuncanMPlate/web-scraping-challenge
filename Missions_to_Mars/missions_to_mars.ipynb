{
 "cells": [
  {
   "cell_type": "code",
   "execution_count": 1,
   "source": [
    "from bs4 import BeautifulSoup\r\n",
    "import pandas as pd\r\n",
    "import splinter\r\n",
    "import requests\r\n",
    "import os"
   ],
   "outputs": [],
   "metadata": {}
  },
  {
   "cell_type": "code",
   "execution_count": 2,
   "source": [
    "url = \"https://redplanetscience.com/\"\r\n",
    "response = requests.get(url)\r\n",
    "soup = BeautifulSoup(response.text, \"html.parser\")"
   ],
   "outputs": [],
   "metadata": {}
  },
  {
   "cell_type": "code",
   "execution_count": 5,
   "source": [
    "results = soup.find_all('div', attrs={'id': 'news', 'class': 'container'})\r\n",
    "\r\n",
    "for result in results:\r\n",
    "\ttry:\r\n",
    "\t\theadline=result.find('div', attrs={'content_title'}).text\r\n",
    "\t\tcontent= result.find('div', attrs={'article_teaser_body'}).text\r\n",
    "\t\tif (headline and content):\r\n",
    "\t\t\tprint(headline)\r\n",
    "\t\t\tprint(content)\r\n",
    "\t\t\tpost = {\r\n",
    "\t\t\t\t'headlines': headline,\r\n",
    "\t\t\t\t'content': content\r\n",
    "\t\t\t}\r\n",
    "\texcept Exception as e:\r\n",
    "\t\tprint(e)\t\r\n"
   ],
   "outputs": [
    {
     "output_type": "stream",
     "name": "stdout",
     "text": [
      "'NoneType' object has no attribute 'text'\n"
     ]
    }
   ],
   "metadata": {}
  },
  {
   "cell_type": "code",
   "execution_count": null,
   "source": [],
   "outputs": [],
   "metadata": {}
  }
 ],
 "metadata": {
  "orig_nbformat": 4,
  "language_info": {
   "name": "python",
   "version": "3.8.8",
   "mimetype": "text/x-python",
   "codemirror_mode": {
    "name": "ipython",
    "version": 3
   },
   "pygments_lexer": "ipython3",
   "nbconvert_exporter": "python",
   "file_extension": ".py"
  },
  "kernelspec": {
   "name": "python3",
   "display_name": "Python 3.8.8 32-bit ('base': conda)"
  },
  "interpreter": {
   "hash": "6789e5c0a1e4ab3107530c7294f13901bddb27991e4ea1a6417a9a953c743642"
  }
 },
 "nbformat": 4,
 "nbformat_minor": 2
}